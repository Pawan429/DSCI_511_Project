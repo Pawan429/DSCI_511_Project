{
 "cells": [
  {
   "cell_type": "code",
   "execution_count": 9,
   "metadata": {},
   "outputs": [],
   "source": [
    "import json\n",
    "import pandas as pd"
   ]
  },
  {
   "cell_type": "code",
   "execution_count": 5,
   "metadata": {},
   "outputs": [],
   "source": [
    "# FUNCTION TO LOAD THE DATA\n",
    "def load_data(filepath):\n",
    "    with open(filepath) as f:\n",
    "        data = json.load(f)\n",
    "    \n",
    "    return(data)\n"
   ]
  },
  {
   "cell_type": "code",
   "execution_count": 31,
   "metadata": {},
   "outputs": [],
   "source": [
    "filepath = 'DSCI_Project_Output.json'\n",
    "\n",
    "data = load_data(filepath)\n",
    "# data"
   ]
  },
  {
   "cell_type": "code",
   "execution_count": 30,
   "metadata": {},
   "outputs": [],
   "source": [
    "# FUNCTION TO LIST ALL THE TOPIC NAMES\n",
    "\n",
    "def get_topic_names(data):\n",
    "    return([i for i in data])\n",
    "\n",
    "# get_topic_names(data)"
   ]
  },
  {
   "cell_type": "code",
   "execution_count": 29,
   "metadata": {},
   "outputs": [],
   "source": [
    "# FUNCTION THAT RETURNS A DATAFRAME OF TIMESERIES DATA FOR A GIVEN TOPIC NAME\n",
    "def interest_over_time(Topic_name):\n",
    "    \n",
    "    df = pd.read_json(data[Topic_name][\"interest_over_time\"], orient='table')\n",
    "\n",
    "    return(df)\n",
    "\n",
    "# interest_over_time('Streaming')"
   ]
  },
  {
   "cell_type": "code",
   "execution_count": 27,
   "metadata": {},
   "outputs": [],
   "source": [
    "#FUNCTION THAT RETURNS TWO LISTS OF RELATED QUEIRES IN THE ORDER GOOGLE, BING\n",
    "def related_queries(Topic_name) :\n",
    "    x = data[Topic_name][\"related_queries\"]\n",
    "    Google = x['Google']\n",
    "    Bing = x['Bing']\n",
    "    return(Google, Bing)\n",
    "\n",
    "# related_queries('Streaming')"
   ]
  },
  {
   "cell_type": "code",
   "execution_count": null,
   "metadata": {},
   "outputs": [],
   "source": [
    " "
   ]
  }
 ],
 "metadata": {
  "kernelspec": {
   "display_name": "Python 3",
   "language": "python",
   "name": "python3"
  },
  "language_info": {
   "codemirror_mode": {
    "name": "ipython",
    "version": 3
   },
   "file_extension": ".py",
   "mimetype": "text/x-python",
   "name": "python",
   "nbconvert_exporter": "python",
   "pygments_lexer": "ipython3",
   "version": "3.7.6"
  }
 },
 "nbformat": 4,
 "nbformat_minor": 2
}
