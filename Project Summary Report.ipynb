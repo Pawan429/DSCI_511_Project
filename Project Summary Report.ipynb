{
 "cells": [
  {
   "cell_type": "markdown",
   "metadata": {},
   "source": [
    "# People's Interests During COVID19 Lockdown: A Review of Search Trends\n",
    "\n",
    "\n",
    "\n"
   ]
  },
  {
   "cell_type": "markdown",
   "metadata": {},
   "source": [
    "\n",
    "\n",
    "\n",
    "# Table of Contents\n",
    "\n",
    "### 1. Introduction:\n",
    "#### 1.1 Overview\n",
    "#### 1.2 Problem Statement\n",
    "#### 1.3 Objectives\n",
    "#### 1.4 Project Significance\n",
    "### 2. Project Team\n",
    "### 3. Data Creation and Structure\n",
    "#### 3.1 Data Acquisition\n",
    "#### 3.2 Access Rights\n",
    "#### 3.3 Code\n",
    "### 4. Challenges and Alternatives\n",
    "### 5. References"
   ]
  },
  {
   "cell_type": "markdown",
   "metadata": {},
   "source": [
    "# 1. Introduction\n",
    "\n",
    "###    1.1 OVERVIEW\n",
    "The outbreak of the novel coronavirus and its associated social distancing and quarantine health protocols seem to have imposed a new trend in people's tastes and preferences for traditional goods and services. People do not get to have some of the traditional services that they would enjoyed during the pre-pandemic period; they have to choose those services which are not only substitutes for the ones that they are acustomed to, but are the only ones available under the prevailing circumstances. For instance, people would choose video streaming services to substitute for traditional movie theatres which are currently unavailable. These changes in people's preferences have great bearings on different aspects of life including business and public policy decisions.\n",
    "As students of Data Science (DSCI 511), this project group set to study the changing nature of people's preferences during these abnormal periods of social distancing and quarantine. The project employed the Python pytrend module to obtain google trend and Bing search data on people's searches of key quarantine activities as suggested by Harris & Haasch (2020). Our dataset is therefore a compilation of time series observations, comprising of carefully selected variables, and stored in the json data format.\n",
    "\n",
    "###    1.2 PROBLEM STATEMENT\n",
    "The project is motivated by the team's desire to contribute to literature on quarantine and social distancing ones in a more practical and unprecedented way. While there is preponderance of literature on the subjects of quarantine and social distancing, this project team did not find any one specifically on people's choices during quarantine determined from google trends using the pytrend / bing module.    \n",
    "    \n",
    "###    1.3 OBJECTIVES\n",
    "The main objective of this project was to develop a dataset of relevant indicators of people's interests during quarantine periods, using the real time data from the google search engine. Other objectives include:\n",
    "The facilitation of public sector and business decision-making process based on data, as the team believes that the dataset could serve a multifaceted purpose, ranging from providing general information to individuals and communities on what to do during any future quarantine, to providing information relating to consumer preferences which could be useful in business decisions across different industries. \n",
    "    \n",
    "###    1.4 SIGNIFICANCE/POSSIBLE BENEFICIARIES\n",
    "Given its composition, this project could be useful to researchers interested in understanding peoples' choice of activities and services during quarantine periods. This information could be useful for both academic and business practitioners, among others, in making informed public sector and business decisions. Businesses and researchers could use the data to inform future investment decisions which could advance breakthroughs in fields like psychology, medicine, and technology. For instance, the data on \"movie interest\" could send a signal of the type and quantity of movies people are interested in during quarantine. Such information could inform investment decisions by industry actors such as Netflix, HBO, Hulu, etc. The dataset could also serve as a basis for social and natural science research works that intend to look into people's choices of activities during stressful moments of quarantine.   "
   ]
  },
  {
   "cell_type": "markdown",
   "metadata": {},
   "source": [
    "# 2. Project Team:\n",
    "\n",
    "Our project team comprises four persons, namely: Ansumana B. Korleh, Pavan Nagisetti, Benny Lin, and Win Sein. Here are brief information about each group member's background:\n",
    "\n",
    "###    2.1 ANSUMANA B. KORLEH\n",
    "Ansumana has a background in economics and public policy, with over three years of professional experience working as a public sector economist. He has economic research and policy analysis skills. He is a great people-centered team player with excellent interpersonal skills. Ansumana’s areas of interest include data visualization, data analysis, and solution-based policy recommendation based on data. \n",
    "#####    2.1.1 Contribution\n",
    "In the project team, Ansumana serves as the Project Coordinator. In this role, he oversees the overall implementation of the team's project through specific and general follow-ups and project completion tracking. He also takes the lead on non-technical analyses.\n",
    "###     2.2 PAVAN NAGISETTI\n",
    "Pavan has 2 years of professional experience in Data Analytics. He is well acquainted with Data Visualization, ETI, and Deep learning. He is also well acquainted with the tools in the technological landscape and project delivery cycle of SaaS Industry. He is an enthusiastic individual by nature, a little competitive. \n",
    "\n",
    "#####    2.2.1 Contribution\n",
    "Pavan plays the role of Lead Researcher of the team. As lead researcher, Pavan supports the team's research efforts related to data, articles, and other relevant references. \n",
    "\n",
    "###     2.3 BENNY LIN\n",
    "Benny Lin specializes in data analytics and he is pretty familiar with Python and manipulating data. He can contribute to scoping out the project and acquiring and cleaning the raw data for the project team. \n",
    "\n",
    "#####    2.3.1 Contribution\n",
    "Based on his self-identified skills and his role in the team's activities, Benny is the Lead Programmer of the team. As lead programmer, Benny plays active roles in consolidating programming-related inputs from other team members.\n",
    "\n",
    "\n",
    "###    2.4 WIN SEIN\n",
    "Win Sein has worked seven years as procurement administrator and analyst. In that role, he used MS Excel and Access. Currently, he is working at PHA as a procurement agent. Being able to handle a lot of structured data, he is confident that this project will provide him a great experience in data acquisition and pre-processing. \n",
    "\n",
    "##### 2.4.1 Contribution\n",
    "Win is the Key Tasks leader of the team. In this role, he coordinates and ensures maximum output on every task of the team by coordinated follow ups, reminder, and scheduling.\n",
    "\n",
    "\n",
    "# Data Creation and Structure\n",
    "\n",
    "###      3.1. Data Creation|\n",
    "The creation of our dataset began with a thorough discussion of what type of data can the team build and how relevant it could be to the contemporary reality. After a series of discussions, the team resolved on looking into how the prevailing lockdowns due to COVID-19 are impacting people's everyday preferences and choices. The team then set out to explore literature for relevant information. We found an interesting article by Harris & Haasch (2020) in the Business Insider which the team modeled the dataset's variables after. The data/observations for these variables were then obtained mainly from Google, using the Python google trends module (\"Pytrends\"). This module allowed us to retrieve data from Google, showing data for search queries that people have made by time periods, regions, topics, etc. To further enrich the dataset related queries were brought in from Bing, to create a more holistic view of related searchtrends across the internet."
   ]
  },
  {
   "cell_type": "markdown",
   "metadata": {},
   "source": [
    "###      3.2. Access Rights\n",
    "The data is open sourced. The API is public, as maintained by Google, and therefore our dataset does not require any access permission. In the future, we could upload the data to other publicly accessible sources such as github.\n",
    "The Bing Api is also free and you would just need a free Azure account to generate your own subscription key.\n",
    "Our whole project, you can clone the repository on: https://github.com/Pawan429/DSCI_511_Project.git\n",
    "\n",
    "###      3.3. Code\n",
    "Please refer to Google_Bing Trends Script for the code.\n",
    "\n",
    "\n",
    "# 4. Challenges and Alternatives\n",
    "While our dataset may be useful in many ways, it is equally limited in some respects. First, the data are mere results of people's searches which the project uses as proxy for people's interests. This may not be a comprehensive and realistic consideration of people's interests. Second, the data are not in depth reflections of the actual behavior of the variables, as they were only obtained from Google search engine instead of the actual generators of those data. For example, Netflix related data should better be obtained from netflix instead of Google. Third and importantly, it was difficult to obtain other data sources that could complement our existing google trends dataset. Much of the idea that the team had was not able to retrieve the data or it was just inaccessible. The team believed that a great compliment to google trends data would be from relevant data sources such as Netflix data and/or Amazon search data.\n",
    "Given that these two datasets were publicly unavailable, the team had to come up with other ways to compliment the google trends data. This was challenging, especially so because the global market share of search engines is dominated by Google (92.54%). Since Bing comes in second place with 2.44% of the market share, the team decided to use Bing data to complement its existing google trend data. We thought that if we scraped related search results from Bing and combined it with Google, it would provide a more holistic view of search terms that people were searching during quarantine. This enriched dataset could be used for example in marketing setting, where users could see what people were searching for across multiple search engines, which would give a more accurate pulse of how the average person is reacting to quarantine for a given topic.\n",
    "In the future, the dataset could be improved by obtaining a more realistic data from the actual data generators/owners instead of Google. Also, the dataset could be expanded to cover other trending areas of people's interests during quarantine, which may not have necessarily been covered by the article used by this project."
   ]
  },
  {
   "cell_type": "markdown",
   "metadata": {},
   "source": [
    "# 5. Reference\n",
    "\n",
    "1. Harris, M., & Haasch, P. (2020, April). Things to do to stay connected and distracted in quarantine, from Zoom parties to      \n",
    "            binge-watching 'Tiger King'. Retrieved from Business Insider: \n",
    "            https://www.businessinsider.com/things-to-do-in-quarantine-activities-social-distancing-2020-4?amp\n",
    "2. Google Trends - https://pypi.org/project/pytrends/\n",
    "3. Bing Trends- https://azure.microsoft.com/en-us/services/cognitive-services/bing-web-search-api/\n",
    "\n"
   ]
  },
  {
   "cell_type": "code",
   "execution_count": null,
   "metadata": {},
   "outputs": [],
   "source": []
  }
 ],
 "metadata": {
  "kernelspec": {
   "display_name": "Python 3",
   "language": "python",
   "name": "python3"
  },
  "language_info": {
   "codemirror_mode": {
    "name": "ipython",
    "version": 3
   },
   "file_extension": ".py",
   "mimetype": "text/x-python",
   "name": "python",
   "nbconvert_exporter": "python",
   "pygments_lexer": "ipython3",
   "version": "3.7.6"
  }
 },
 "nbformat": 4,
 "nbformat_minor": 4
}
